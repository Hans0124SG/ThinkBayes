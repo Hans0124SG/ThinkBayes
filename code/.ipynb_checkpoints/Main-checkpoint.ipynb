{
 "cells": [
  {
   "cell_type": "code",
   "execution_count": 1,
   "metadata": {
    "collapsed": true
   },
   "outputs": [],
   "source": [
    "from thinkbayes import Pmf"
   ]
  },
  {
   "cell_type": "code",
   "execution_count": 2,
   "metadata": {},
   "outputs": [],
   "source": [
    "class Cookie(Pmf):\n",
    "    # assign the same prior to each hypo\n",
    "    def __init__(self,hypos):\n",
    "        Pmf.__init__(self)\n",
    "        for hypo in hypos:\n",
    "            self.Set(hypo,1)\n",
    "        self.Normalize()\n",
    "    \n",
    "    def Update(self,data):\n",
    "        for hypo in self.Values():\n",
    "            like = self.Likelihood(data,hypo)\n",
    "            self.Mult(hypo,like)\n",
    "        self.Normalize()\n",
    "        \n",
    "    mixes = {\n",
    "        'Bowl1': dict(vanilla=0.75, chocolate=0.25),\n",
    "        'Bowl2': dict(vanilla=0.5, chocolate=0.5)\n",
    "    }\n",
    "    \n",
    "    def Likelihood(self, data, hypo):\n",
    "        mix = self.mixes.get(hypo)\n",
    "        like = mix[data]\n",
    "        return like"
   ]
  },
  {
   "cell_type": "code",
   "execution_count": 3,
   "metadata": {
    "collapsed": true
   },
   "outputs": [],
   "source": [
    "hypos = ['Bowl1', 'Bowl2']\n",
    "pmf = Cookie(hypos)"
   ]
  },
  {
   "cell_type": "code",
   "execution_count": 4,
   "metadata": {},
   "outputs": [],
   "source": [
    "pmf.Update('vanilla')"
   ]
  },
  {
   "cell_type": "code",
   "execution_count": 5,
   "metadata": {},
   "outputs": [
    {
     "name": "stdout",
     "output_type": "stream",
     "text": [
      "Bowl1 0.6\n",
      "Bowl2 0.4\n"
     ]
    }
   ],
   "source": [
    "for hypo, prob in pmf.Items():\n",
    "    print hypo, prob"
   ]
  },
  {
   "cell_type": "code",
   "execution_count": 6,
   "metadata": {},
   "outputs": [],
   "source": [
    "class Monty(Pmf):\n",
    "    def __init__(self,hypos):\n",
    "        Pmf.__init__(self)\n",
    "        for hypo in hypos:\n",
    "            self.Set(hypo,1)\n",
    "        self.Normalize()\n",
    "    \n",
    "    def Update(self,data):\n",
    "        size = len(self.Values())\n",
    "        for hypo in self.Values():\n",
    "            like = self.Likelihood(data,hypo,size)\n",
    "            self.Mult(hypo,like)\n",
    "        self.Normalize()\n",
    "    \n",
    "    def Likelihood(self, data, hypo,size):\n",
    "        if hypo == \"B\":\n",
    "            like = 0\n",
    "        elif hypo == \"A\":\n",
    "            like = (size - 2)/float((size - 1))\n",
    "        else:\n",
    "            like = 1\n",
    "        return like"
   ]
  },
  {
   "cell_type": "code",
   "execution_count": 7,
   "metadata": {},
   "outputs": [
    {
     "name": "stdout",
     "output_type": "stream",
     "text": [
      "['A', 'C', 'B', 'E', 'D']\n"
     ]
    }
   ],
   "source": [
    "hypos = 'ABCDE'\n",
    "pmf = Monty(hypos)\n",
    "print pmf.Values()"
   ]
  },
  {
   "cell_type": "code",
   "execution_count": 8,
   "metadata": {},
   "outputs": [],
   "source": [
    "pmf.Update('B')"
   ]
  },
  {
   "cell_type": "code",
   "execution_count": 9,
   "metadata": {},
   "outputs": [
    {
     "name": "stdout",
     "output_type": "stream",
     "text": [
      "A 0.2\n",
      "C 0.266666666667\n",
      "B 0.0\n",
      "E 0.266666666667\n",
      "D 0.266666666667\n"
     ]
    }
   ],
   "source": [
    "for hypo, prob in pmf.Items():\n",
    "    print hypo, prob"
   ]
  },
  {
   "cell_type": "markdown",
   "metadata": {},
   "source": [
    "## Use Suite to unify the model"
   ]
  },
  {
   "cell_type": "code",
   "execution_count": 10,
   "metadata": {
    "collapsed": true
   },
   "outputs": [],
   "source": [
    "from thinkbayes import Suite"
   ]
  },
  {
   "cell_type": "code",
   "execution_count": 11,
   "metadata": {
    "collapsed": true
   },
   "outputs": [],
   "source": [
    "class Monty(Suite):\n",
    "    # define the likelihood function of this problem\n",
    "    def Likelihood(self, data, hypo):\n",
    "        if hypo == data:\n",
    "            return 0\n",
    "        elif hypo == 'A':\n",
    "            return 0.5\n",
    "        else:\n",
    "            return 1"
   ]
  },
  {
   "cell_type": "code",
   "execution_count": 12,
   "metadata": {},
   "outputs": [
    {
     "name": "stdout",
     "output_type": "stream",
     "text": [
      "A 0.333333333333\n",
      "B 0.0\n",
      "C 0.666666666667\n"
     ]
    }
   ],
   "source": [
    "suite=Monty('ABC')\n",
    "suite.Update('B')\n",
    "suite.Print()"
   ]
  },
  {
   "cell_type": "code",
   "execution_count": 17,
   "metadata": {
    "collapsed": true
   },
   "outputs": [],
   "source": [
    "class M_and_M(Suite):\n",
    "    mix94 = dict(brown=30, yellow=20, red=20, green=10,orange=10, tan=10)\n",
    "    mix96= dict(blue=24, yellow=14, red=13, green=20,orange=16, brown=13)\n",
    "    hypoA = dict(bag1 = mix94, bag2=mix96)\n",
    "    hypoB = dict(bag1 = mix96, bag2=mix94)\n",
    "    hypotheses = dict(A=hypoA, B=hypoB)\n",
    "    def Likelihood(self, data, hypo):\n",
    "        bag, color = data\n",
    "        mix = self.hypotheses[hypo][bag]\n",
    "        like = mix[color]\n",
    "        return like"
   ]
  },
  {
   "cell_type": "code",
   "execution_count": 20,
   "metadata": {},
   "outputs": [
    {
     "name": "stdout",
     "output_type": "stream",
     "text": [
      "A 0.740740740741\n",
      "B 0.259259259259\n"
     ]
    }
   ],
   "source": [
    "suite = M_and_M('AB')\n",
    "suite.Update(('bag1', 'yellow'))\n",
    "suite.Update(('bag2', 'green'))\n",
    "suite.Print()"
   ]
  },
  {
   "cell_type": "markdown",
   "metadata": {},
   "source": [
    "## Chapter 3"
   ]
  },
  {
   "cell_type": "code",
   "execution_count": 35,
   "metadata": {},
   "outputs": [],
   "source": [
    "class Dice(Suite):\n",
    "    def Likelihood(self, data, hypo):\n",
    "        # if the dice number is more than the number of sides of a specific dice, the likelihood is 0\n",
    "        if hypo < data:\n",
    "            return 0\n",
    "        else:\n",
    "            return 1.0/hypo"
   ]
  },
  {
   "cell_type": "code",
   "execution_count": 36,
   "metadata": {},
   "outputs": [],
   "source": [
    "suite = Dice([4,6,8,12,20])"
   ]
  },
  {
   "cell_type": "code",
   "execution_count": 39,
   "metadata": {},
   "outputs": [
    {
     "name": "stdout",
     "output_type": "stream",
     "text": [
      "4 0.0\n",
      "6 0.0\n",
      "8 0.943248453672\n",
      "12 0.0552061280613\n",
      "20 0.0015454182665\n"
     ]
    }
   ],
   "source": [
    "for roll in [6,8,7,7,5,4]:\n",
    "    suite.Update(roll)\n",
    "suite.Print()"
   ]
  },
  {
   "cell_type": "markdown",
   "metadata": {},
   "source": [
    "## Locomotive problem"
   ]
  },
  {
   "cell_type": "code",
   "execution_count": 57,
   "metadata": {
    "scrolled": true
   },
   "outputs": [],
   "source": [
    "hypos = xrange(1,1001)\n",
    "class Train(Suite):\n",
    "    def Likelihood(self, data, hypo):\n",
    "        if hypo < data:\n",
    "            return 0\n",
    "        else:\n",
    "            return 1.0/hypo\n",
    "suite = Train(hypos)\n",
    "for data in [30,60,90]:\n",
    "    suite.Update(data)"
   ]
  },
  {
   "cell_type": "code",
   "execution_count": 58,
   "metadata": {},
   "outputs": [
    {
     "name": "stdout",
     "output_type": "stream",
     "text": [
      "164.305586423\n",
      "Writing train1.pdf\n",
      "Writing train1.eps\n"
     ]
    },
    {
     "data": {
      "text/plain": [
       "<matplotlib.figure.Figure at 0x1174affd0>"
      ]
     },
     "metadata": {},
     "output_type": "display_data"
    }
   ],
   "source": [
    "def Mean(suite):\n",
    "    total = 0\n",
    "    for hypo, prob in suite.Items():\n",
    "        total += hypo*prob\n",
    "    return total\n",
    "print Mean(suite)\n",
    "\n",
    "import thinkplot\n",
    "thinkplot.PrePlot(1)\n",
    "thinkplot.Pmf(suite)\n",
    "thinkplot.Save(root='train1',\n",
    "               xlabel='Number of trains',\n",
    "               ylabel='Probability',\n",
    "               formats=['pdf', 'eps'])"
   ]
  },
  {
   "cell_type": "markdown",
   "metadata": {},
   "source": [
    "### Power-law distributed prior"
   ]
  },
  {
   "cell_type": "code",
   "execution_count": 124,
   "metadata": {
    "collapsed": true
   },
   "outputs": [],
   "source": [
    "class Train(Dice):\n",
    "    def __init__(self, companies, alpha = 1.0):\n",
    "        Pmf.__init__(self)\n",
    "        companies.sort()\n",
    "        all_trains = [0] * (companies[-1] + 1)\n",
    "        for company in companies:\n",
    "            for x in range(1,company+1):\n",
    "                all_trains[x] += 1\n",
    "        for hypo in range(1,companies[-1]):\n",
    "            self.Set(hypo, hypo**(-alpha) * all_trains[hypo])\n",
    "        self.Normalize()"
   ]
  },
  {
   "cell_type": "code",
   "execution_count": 144,
   "metadata": {},
   "outputs": [
    {
     "name": "stdout",
     "output_type": "stream",
     "text": [
      "111.277273813\n",
      "Warning: Brewer ran out of colors.\n"
     ]
    },
    {
     "data": {
      "image/png": "[encoded data removed]",
      "text/plain": [
       "<matplotlib.figure.Figure at 0x11760a310>"
      ]
     },
     "metadata": {},
     "output_type": "display_data"
    }
   ],
   "source": [
    "companies = [150, 200, 100]\n",
    "suite = Train(companies)\n",
    "for data in [30,60,90]:\n",
    "    suite.Update(data)\n",
    "print Mean(suite)\n",
    "thinkplot.PrePlot(1)\n",
    "thinkplot.Pmf(suite)\n",
    "# thinkplot.Save(root='train1',\n",
    "#                xlabel='Number of trains',\n",
    "#                ylabel='Probability',\n",
    "#                formats=['pdf', 'eps'])\n",
    "thinkplot.plot(suite)"
   ]
  },
  {
   "cell_type": "code",
   "execution_count": 64,
   "metadata": {},
   "outputs": [
    {
     "name": "stdout",
     "output_type": "stream",
     "text": [
      "(91, 242)\n"
     ]
    }
   ],
   "source": [
    "def Percentile(pmf, percentage):\n",
    "    p = percentage / 100.0\n",
    "    total = 0\n",
    "    for val, prob in pmf.Items():\n",
    "        total += prob\n",
    "        if total >= p:\n",
    "            return val\n",
    "interval = Percentile(suite, 5), Percentile(suite, 95)\n",
    "print interval"
   ]
  },
  {
   "cell_type": "code",
   "execution_count": 67,
   "metadata": {},
   "outputs": [
    {
     "name": "stdout",
     "output_type": "stream",
     "text": [
      "(91, 242)\n"
     ]
    }
   ],
   "source": [
    "cdf = suite.MakeCdf()\n",
    "interval = cdf.Percentile(5), cdf.Percentile(95)\n",
    "print interval"
   ]
  }
 ],
 "metadata": {
  "kernelspec": {
   "display_name": "Python [conda root]",
   "language": "python",
   "name": "conda-root-py"
  },
  "language_info": {
   "codemirror_mode": {
    "name": "ipython",
    "version": 2
   },
   "file_extension": ".py",
   "mimetype": "text/x-python",
   "name": "python",
   "nbconvert_exporter": "python",
   "pygments_lexer": "ipython2",
   "version": "2.7.12"
  }
 },
 "nbformat": 4,
 "nbformat_minor": 1
}
