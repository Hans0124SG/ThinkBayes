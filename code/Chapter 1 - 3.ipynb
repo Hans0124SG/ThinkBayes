{
 "cells": [
  {
   "cell_type": "code",
   "execution_count": null,
   "metadata": {
    "collapsed": true
   },
   "outputs": [],
   "source": [
    "from thinkbayes import Pmf"
   ]
  },
  {
   "cell_type": "code",
   "execution_count": null,
   "metadata": {
    "collapsed": true
   },
   "outputs": [],
   "source": [
    "class Cookie(Pmf):\n",
    "    # assign the same prior to each hypo\n",
    "    def __init__(self,hypos):\n",
    "        Pmf.__init__(self)\n",
    "        for hypo in hypos:\n",
    "            self.Set(hypo,1)\n",
    "        self.Normalize()\n",
    "    \n",
    "    def Update(self,data):\n",
    "        for hypo in self.Values():\n",
    "            like = self.Likelihood(data,hypo)\n",
    "            self.Mult(hypo,like)\n",
    "        self.Normalize()\n",
    "        \n",
    "    mixes = {\n",
    "        'Bowl1': dict(vanilla=0.75, chocolate=0.25),\n",
    "        'Bowl2': dict(vanilla=0.5, chocolate=0.5)\n",
    "    }\n",
    "    \n",
    "    def Likelihood(self, data, hypo):\n",
    "        mix = self.mixes.get(hypo)\n",
    "        like = mix[data]\n",
    "        return like"
   ]
  },
  {
   "cell_type": "code",
   "execution_count": null,
   "metadata": {
    "collapsed": true
   },
   "outputs": [],
   "source": [
    "hypos = ['Bowl1', 'Bowl2']\n",
    "pmf = Cookie(hypos)"
   ]
  },
  {
   "cell_type": "code",
   "execution_count": null,
   "metadata": {
    "collapsed": true
   },
   "outputs": [],
   "source": [
    "pmf.Update('vanilla')"
   ]
  },
  {
   "cell_type": "code",
   "execution_count": null,
   "metadata": {},
   "outputs": [],
   "source": [
    "for hypo, prob in pmf.Items():\n",
    "    print hypo, prob"
   ]
  },
  {
   "cell_type": "code",
   "execution_count": null,
   "metadata": {
    "collapsed": true
   },
   "outputs": [],
   "source": [
    "class Monty(Pmf):\n",
    "    def __init__(self,hypos):\n",
    "        Pmf.__init__(self)\n",
    "        for hypo in hypos:\n",
    "            self.Set(hypo,1)\n",
    "        self.Normalize()\n",
    "    \n",
    "    def Update(self,data):\n",
    "        size = len(self.Values())\n",
    "        for hypo in self.Values():\n",
    "            like = self.Likelihood(data,hypo,size)\n",
    "            self.Mult(hypo,like)\n",
    "        self.Normalize()\n",
    "    \n",
    "    def Likelihood(self, data, hypo,size):\n",
    "        if hypo == \"B\":\n",
    "            like = 0\n",
    "        elif hypo == \"A\":\n",
    "            like = (size - 2)/float((size - 1))\n",
    "        else:\n",
    "            like = 1\n",
    "        return like"
   ]
  },
  {
   "cell_type": "code",
   "execution_count": null,
   "metadata": {},
   "outputs": [],
   "source": [
    "hypos = 'ABCDE'\n",
    "pmf = Monty(hypos)\n",
    "print pmf.Values()"
   ]
  },
  {
   "cell_type": "code",
   "execution_count": null,
   "metadata": {
    "collapsed": true
   },
   "outputs": [],
   "source": [
    "pmf.Update('B')"
   ]
  },
  {
   "cell_type": "code",
   "execution_count": null,
   "metadata": {},
   "outputs": [],
   "source": [
    "for hypo, prob in pmf.Items():\n",
    "    print hypo, prob"
   ]
  },
  {
   "cell_type": "markdown",
   "metadata": {},
   "source": [
    "## Use Suite to unify the model"
   ]
  },
  {
   "cell_type": "code",
   "execution_count": null,
   "metadata": {
    "collapsed": true
   },
   "outputs": [],
   "source": [
    "from thinkbayes import Suite"
   ]
  },
  {
   "cell_type": "code",
   "execution_count": null,
   "metadata": {
    "collapsed": true
   },
   "outputs": [],
   "source": [
    "class Monty(Suite):\n",
    "    # define the likelihood function of this problem\n",
    "    def Likelihood(self, data, hypo):\n",
    "        if hypo == data:\n",
    "            return 0\n",
    "        elif hypo == 'A':\n",
    "            return 0.5\n",
    "        else:\n",
    "            return 1"
   ]
  },
  {
   "cell_type": "code",
   "execution_count": null,
   "metadata": {},
   "outputs": [],
   "source": [
    "suite=Monty('ABC')\n",
    "suite.Update('B')\n",
    "suite.Print()"
   ]
  },
  {
   "cell_type": "code",
   "execution_count": null,
   "metadata": {
    "collapsed": true
   },
   "outputs": [],
   "source": [
    "class M_and_M(Suite):\n",
    "    mix94 = dict(brown=30, yellow=20, red=20, green=10,orange=10, tan=10)\n",
    "    mix96= dict(blue=24, yellow=14, red=13, green=20,orange=16, brown=13)\n",
    "    hypoA = dict(bag1 = mix94, bag2=mix96)\n",
    "    hypoB = dict(bag1 = mix96, bag2=mix94)\n",
    "    hypotheses = dict(A=hypoA, B=hypoB)\n",
    "    def Likelihood(self, data, hypo):\n",
    "        bag, color = data\n",
    "        mix = self.hypotheses[hypo][bag]\n",
    "        like = mix[color]\n",
    "        return like"
   ]
  },
  {
   "cell_type": "code",
   "execution_count": null,
   "metadata": {},
   "outputs": [],
   "source": [
    "suite = M_and_M('AB')\n",
    "suite.Update(('bag1', 'yellow'))\n",
    "suite.Update(('bag2', 'green'))\n",
    "suite.Print()"
   ]
  },
  {
   "cell_type": "markdown",
   "metadata": {},
   "source": [
    "## Chapter 3"
   ]
  },
  {
   "cell_type": "code",
   "execution_count": null,
   "metadata": {
    "collapsed": true
   },
   "outputs": [],
   "source": [
    "class Dice(Suite):\n",
    "    def Likelihood(self, data, hypo):\n",
    "        # if the dice number is more than the number of sides of a specific dice, the likelihood is 0\n",
    "        if hypo < data:\n",
    "            return 0\n",
    "        else:\n",
    "            return 1.0/hypo"
   ]
  },
  {
   "cell_type": "code",
   "execution_count": null,
   "metadata": {
    "collapsed": true
   },
   "outputs": [],
   "source": [
    "suite = Dice([4,6,8,12,20])"
   ]
  },
  {
   "cell_type": "code",
   "execution_count": null,
   "metadata": {},
   "outputs": [],
   "source": [
    "for roll in [6,8,7,7,5,4]:\n",
    "    suite.Update(roll)\n",
    "suite.Print()"
   ]
  },
  {
   "cell_type": "markdown",
   "metadata": {},
   "source": [
    "## Locomotive problem"
   ]
  },
  {
   "cell_type": "code",
   "execution_count": null,
   "metadata": {
    "collapsed": true,
    "scrolled": true
   },
   "outputs": [],
   "source": [
    "hypos = xrange(1,1001)\n",
    "class Train(Suite):\n",
    "    def Likelihood(self, data, hypo):\n",
    "        if hypo < data:\n",
    "            return 0\n",
    "        else:\n",
    "            return 1.0/hypo\n",
    "suite = Train(hypos)\n",
    "for data in [30,60,90]:\n",
    "    suite.Update(data)"
   ]
  },
  {
   "cell_type": "code",
   "execution_count": null,
   "metadata": {},
   "outputs": [],
   "source": [
    "def Mean(suite):\n",
    "    total = 0\n",
    "    for hypo, prob in suite.Items():\n",
    "        total += hypo*prob\n",
    "    return total\n",
    "print Mean(suite)\n",
    "\n",
    "import thinkplot\n",
    "thinkplot.PrePlot(1)\n",
    "thinkplot.Pmf(suite)\n",
    "thinkplot.Save(root='train1',\n",
    "               xlabel='Number of trains',\n",
    "               ylabel='Probability',\n",
    "               formats=['pdf', 'eps'])"
   ]
  },
  {
   "cell_type": "markdown",
   "metadata": {},
   "source": [
    "### Power-law distributed prior"
   ]
  },
  {
   "cell_type": "code",
   "execution_count": null,
   "metadata": {
    "collapsed": true
   },
   "outputs": [],
   "source": [
    "class Train(Dice):\n",
    "    def __init__(self, companies, alpha = 1.0):\n",
    "        Pmf.__init__(self)\n",
    "        companies.sort()\n",
    "        all_trains = [0] * (companies[-1] + 1)\n",
    "        for company in companies:\n",
    "            for x in range(1,company+1):\n",
    "                all_trains[x] += 1\n",
    "        for hypo in range(1,companies[-1]):\n",
    "            self.Set(hypo, hypo**(-alpha) * all_trains[hypo])\n",
    "        self.Normalize()"
   ]
  },
  {
   "cell_type": "code",
   "execution_count": null,
   "metadata": {},
   "outputs": [],
   "source": [
    "companies = [150, 200, 100]\n",
    "suite = Train(companies)\n",
    "for data in [30,60,90]:\n",
    "    suite.Update(data)\n",
    "print Mean(suite)\n",
    "thinkplot.PrePlot(1)\n",
    "thinkplot.Pmf(suite)\n",
    "# thinkplot.Save(root='train1',\n",
    "#                xlabel='Number of trains',\n",
    "#                ylabel='Probability',\n",
    "#                formats=['pdf', 'eps'])\n",
    "thinkplot.plot(suite)"
   ]
  },
  {
   "cell_type": "code",
   "execution_count": null,
   "metadata": {},
   "outputs": [],
   "source": [
    "def Percentile(pmf, percentage):\n",
    "    p = percentage / 100.0\n",
    "    total = 0\n",
    "    for val, prob in pmf.Items():\n",
    "        total += prob\n",
    "        if total >= p:\n",
    "            return val\n",
    "interval = Percentile(suite, 5), Percentile(suite, 95)\n",
    "print interval"
   ]
  },
  {
   "cell_type": "code",
   "execution_count": null,
   "metadata": {},
   "outputs": [],
   "source": [
    "cdf = suite.MakeCdf()\n",
    "interval = cdf.Percentile(5), cdf.Percentile(95)\n",
    "print interval"
   ]
  }
 ],
 "metadata": {
  "kernelspec": {
   "display_name": "Python [conda root]",
   "language": "python",
   "name": "conda-root-py"
  },
  "language_info": {
   "codemirror_mode": {
    "name": "ipython",
    "version": 2
   },
   "file_extension": ".py",
   "mimetype": "text/x-python",
   "name": "python",
   "nbconvert_exporter": "python",
   "pygments_lexer": "ipython2",
   "version": "2.7.12"
  }
 },
 "nbformat": 4,
 "nbformat_minor": 1
}
