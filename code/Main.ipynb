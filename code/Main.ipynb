{
 "cells": [
  {
   "cell_type": "code",
   "execution_count": 1,
   "metadata": {
    "collapsed": true
   },
   "outputs": [],
   "source": [
    "from thinkbayes import Pmf"
   ]
  },
  {
   "cell_type": "code",
   "execution_count": 17,
   "metadata": {
    "collapsed": false
   },
   "outputs": [],
   "source": [
    "class Cookie(Pmf):\n",
    "    def __init__(self,hypos):\n",
    "        Pmf.__init__(self)\n",
    "        for hypo in hypos:\n",
    "            self.Set(hypo,1)\n",
    "        self.Normalize()\n",
    "    \n",
    "    def Update(self,data):\n",
    "        for hypo in self.Values():\n",
    "            like = self.Likelihood(data,hypo)\n",
    "            self.Mult(hypo,like)\n",
    "        self.Normalize()\n",
    "        \n",
    "    mixes = {\n",
    "        'Bowl1': dict(vanilla=0.75, chocolate=0.25),\n",
    "        'Bowl2': dict(vanilla=0.5, chocolate=0.5)\n",
    "    }\n",
    "    \n",
    "    def Likelihood(self, data, hypo):\n",
    "        mix = self.mixes.get(hypo)\n",
    "        like = mix[data]\n",
    "        return like"
   ]
  },
  {
   "cell_type": "code",
   "execution_count": 18,
   "metadata": {
    "collapsed": true
   },
   "outputs": [],
   "source": [
    "hypos = ['Bowl1', 'Bowl2']\n",
    "pmf = Cookie(hypos)"
   ]
  },
  {
   "cell_type": "code",
   "execution_count": 19,
   "metadata": {
    "collapsed": false
   },
   "outputs": [],
   "source": [
    "pmf.Update('vanilla')"
   ]
  },
  {
   "cell_type": "code",
   "execution_count": 21,
   "metadata": {
    "collapsed": false
   },
   "outputs": [
    {
     "name": "stdout",
     "output_type": "stream",
     "text": [
      "Bowl1 0.6\n",
      "Bowl2 0.4\n"
     ]
    }
   ],
   "source": [
    "for hypo, prob in pmf.Items():\n",
    "    print hypo, prob"
   ]
  },
  {
   "cell_type": "code",
   "execution_count": 74,
   "metadata": {
    "collapsed": false
   },
   "outputs": [],
   "source": [
    "class Monty(Pmf):\n",
    "    def __init__(self,hypos):\n",
    "        Pmf.__init__(self)\n",
    "        for hypo in hypos:\n",
    "            self.Set(hypo,1)\n",
    "        self.Normalize()\n",
    "    \n",
    "    def Update(self,data):\n",
    "        size = len(self.Values())\n",
    "        for hypo in self.Values():\n",
    "            like = self.Likelihood(data,hypo,size)\n",
    "            self.Mult(hypo,like)\n",
    "        self.Normalize()\n",
    "    \n",
    "    def Likelihood(self, data, hypo,size):\n",
    "        if hypo == \"B\":\n",
    "            like = 0\n",
    "        elif hypo == \"A\":\n",
    "            like = (size - 2)/float((size - 1))\n",
    "        else:\n",
    "            like = 1\n",
    "        return like"
   ]
  },
  {
   "cell_type": "code",
   "execution_count": 78,
   "metadata": {
    "collapsed": false
   },
   "outputs": [
    {
     "name": "stdout",
     "output_type": "stream",
     "text": [
      "['A', 'C', 'B', 'E', 'D']\n"
     ]
    }
   ],
   "source": [
    "hypos = 'ABCDE'\n",
    "pmf = Monty(hypos)\n",
    "print pmf.Values()"
   ]
  },
  {
   "cell_type": "code",
   "execution_count": 79,
   "metadata": {
    "collapsed": false
   },
   "outputs": [],
   "source": [
    "pmf.Update('B')"
   ]
  },
  {
   "cell_type": "code",
   "execution_count": 80,
   "metadata": {
    "collapsed": false
   },
   "outputs": [
    {
     "name": "stdout",
     "output_type": "stream",
     "text": [
      "A 0.2\n",
      "C 0.266666666667\n",
      "B 0.0\n",
      "E 0.266666666667\n",
      "D 0.266666666667\n"
     ]
    }
   ],
   "source": [
    "for hypo, prob in pmf.Items():\n",
    "    print hypo, prob"
   ]
  },
  {
   "cell_type": "code",
   "execution_count": null,
   "metadata": {
    "collapsed": true
   },
   "outputs": [],
   "source": []
  }
 ],
 "metadata": {
  "kernelspec": {
   "display_name": "Python [conda root]",
   "language": "python",
   "name": "conda-root-py"
  },
  "language_info": {
   "codemirror_mode": {
    "name": "ipython",
    "version": 2
   },
   "file_extension": ".py",
   "mimetype": "text/x-python",
   "name": "python",
   "nbconvert_exporter": "python",
   "pygments_lexer": "ipython2",
   "version": "2.7.12"
  }
 },
 "nbformat": 4,
 "nbformat_minor": 1
}
